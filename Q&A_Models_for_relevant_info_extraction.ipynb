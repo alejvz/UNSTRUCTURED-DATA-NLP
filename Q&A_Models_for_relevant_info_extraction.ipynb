{
  "nbformat": 4,
  "nbformat_minor": 0,
  "metadata": {
    "colab": {
      "private_outputs": true,
      "provenance": [],
      "include_colab_link": true
    },
    "kernelspec": {
      "name": "python3",
      "display_name": "Python 3"
    },
    "language_info": {
      "name": "python"
    }
  },
  "cells": [
    {
      "cell_type": "markdown",
      "metadata": {
        "id": "view-in-github",
        "colab_type": "text"
      },
      "source": [
        "<a href=\"https://colab.research.google.com/github/alejvz/UNSTRUCTURED-DATA-NLP/blob/master/Q%26A_Models_for_relevant_info_extraction.ipynb\" target=\"_parent\"><img src=\"https://colab.research.google.com/assets/colab-badge.svg\" alt=\"Open In Colab\"/></a>"
      ]
    },
    {
      "cell_type": "markdown",
      "metadata": {
        "id": "lZe8J0xOvzgU"
      },
      "source": [
        "# Relevant information extraction\n",
        "## 1. Regex extraction"
      ]
    },
    {
      "cell_type": "code",
      "metadata": {
        "id": "vmLn7JYfKqri"
      },
      "source": [
        "import re\n",
        "\n",
        "email_body = \"\"\"\n",
        "From: satoshi.nakamoto@pm.me\n",
        "To: jack@pm.me\n",
        "Hi Jack,\n",
        "I'm sorry, I've been distracted by my new Tesla car company, and I'm afraid I'm going to have to delegate the leadership of the bitcoin project to someone else.\n",
        "I need someone really really skilled. Could you advise me on who to appoint? Elon Musk is too busy already!\n",
        "Many thanks,\n",
        "Sat.\n",
        "\n",
        "P.S.: I've got a Tesla Roadster too!\n",
        " - \n",
        "Satoshi Nakamoto\n",
        "Phone number: +1 (650) 566–1191\n",
        "Bitcoin: 1GttzecjYm19xu3iC8i8NEuM7mB5uZQbKD\n",
        "\"\"\"\n",
        "\n",
        "regex_expr = r\"(?:[A-Z][a-z]+)+(?:[\\- ][A-Z](?:[a-z\\.]+)?)+\"\n",
        "\n",
        "re.findall(regex_expr, email_body)"
      ],
      "execution_count": null,
      "outputs": []
    },
    {
      "cell_type": "markdown",
      "metadata": {
        "id": "jFCbizHSv7d8"
      },
      "source": [
        "## 2. spaCy"
      ]
    },
    {
      "cell_type": "code",
      "metadata": {
        "id": "DRzjtbmfK56U"
      },
      "source": [
        "!pip3 install spacy==3.1"
      ],
      "execution_count": null,
      "outputs": []
    },
    {
      "cell_type": "code",
      "metadata": {
        "id": "EqEJYRJnSFZ5"
      },
      "source": [
        "!python -m spacy download en_core_web_trf"
      ],
      "execution_count": null,
      "outputs": []
    },
    {
      "cell_type": "code",
      "metadata": {
        "id": "JH2WWObkSKIw"
      },
      "source": [
        "import spacy\n",
        "import re\n",
        "\n",
        "email_body = \"\"\"\n",
        "From: satoshi.nakamoto@pm.me\n",
        "To: jack@pm.me\n",
        "Hi Jack,\n",
        "I'm sorry, I've been distracted by my new Tesla car company, and I'm afraid I'm going to have to delegate the leadership of the bitcoin project to someone else.\n",
        "I need someone really really skilled. Could you advise me on who to appoint? Elon Musk is too busy already!\n",
        "Many thanks,\n",
        "Sat.\n",
        "\n",
        "P.S.: I've got a Tesla Roadster too!\n",
        " - \n",
        "Satoshi Nakamoto\n",
        "Phone number: +1 (650) 566–1191\n",
        "Bitcoin: 1GttzecjYm19xu3iC8i8NEuM7mB5uZQbKD\n",
        "\"\"\"\n",
        "\n",
        "# Loading spaCy 3.1 transformer model ('en_core_web_sm','en_core_web_md',\n",
        "# 'en_core_web_lg') for lower versions\n",
        "nlp = spacy.load('en_core_web_trf')\n",
        "doc = nlp(email_body)\n",
        "\n",
        "entities = [ent.text for ent in doc.ents if ent.label_ == \"PERSON\"]\n",
        "entities"
      ],
      "execution_count": null,
      "outputs": []
    },
    {
      "cell_type": "markdown",
      "metadata": {
        "id": "XLjhibiDwFjr"
      },
      "source": [
        "## 3. Q&A Models"
      ]
    },
    {
      "cell_type": "code",
      "metadata": {
        "id": "ubaH5U81Ul70"
      },
      "source": [
        "!pip install transformers"
      ],
      "execution_count": null,
      "outputs": []
    },
    {
      "cell_type": "code",
      "metadata": {
        "id": "r1JrxE0USqLc"
      },
      "source": [
        "from transformers import pipeline\n",
        "import numpy as np\n",
        "\n",
        "# Instatiate the model from checkpoint\n",
        "model_checkpoint = \"bert-large-uncased-whole-word-masking-finetuned-squad\"\n",
        "model = pipeline(\n",
        "    'question-answering',\n",
        "    model=model_checkpoint,\n",
        "    tokenizer=model_checkpoint\n",
        ")"
      ],
      "execution_count": null,
      "outputs": []
    },
    {
      "cell_type": "code",
      "metadata": {
        "id": "WwzYTl2wUnd4"
      },
      "source": [
        "email_body = \"\"\"\n",
        "Hi Jack,\n",
        "I'm sorry, I've been distracted by my new Tesla car company, and I'm afraid I'm going to have to delegate the leadership of the bitcoin project to someone else.\n",
        "I need someone really really skilled. Could you advise me on who to appoint? Elon Musk is too busy already!\n",
        "Many thanks,\n",
        "Sat.\n",
        "\n",
        "P.S.: I've got a Tesla Roadster too!\n",
        "---\n",
        "Satoshi Nakamoto\n",
        "Phone number: +1 (650) 566–1191\n",
        "Bitcoin: 1GttzecjYm19xu3iC8i8NEuM7mB5uZQbKD\n",
        "\"\"\"\n",
        "\n",
        "questions = [\n",
        "  \"What is his name?\",\n",
        "  \"What is her name?\",\n",
        "  \"What is their name?\",\n",
        "  \"Who sent this?\",\n",
        "  \"What is the name of the person who sent this?\"\n",
        "]\n",
        "\n",
        "answers = model(\n",
        "    context=email_body,\n",
        "    question=questions,\n",
        "    topk=2\n",
        ")\n",
        "\n",
        "unique_answers = {}\n",
        "\n",
        "for a in answers:\n",
        "  if a[\"answer\"] in unique_answers:\n",
        "    unique_answers[a[\"answer\"]] += a[\"score\"]\n",
        "  else:\n",
        "    unique_answers[a[\"answer\"]] = a[\"score\"]\n",
        "\n",
        "# Ordering by most score\n",
        "result = [(a, s) for (a,s) in unique_answers.items()]\n",
        "result.sort(key=lambda tup: tup[1], reverse=True)\n",
        "\n",
        "# Regex checking\n",
        "regex_expr = r\"(?:[A-Z][a-z]+)+(?:[\\- ][A-Z](?:[a-z\\.]+)?)+\"\n",
        "#result = [r for r in result if re.match(regex_expr, r[0])]\n",
        "\n",
        "# Normalizing probabilities\n",
        "scores_avg = np.sum([r[1] for r in result])\n",
        "result = [(r[0], r[1]/scores_avg) for r in result]\n",
        "\n",
        "result"
      ],
      "execution_count": null,
      "outputs": []
    },
    {
      "cell_type": "code",
      "metadata": {
        "id": "FsYNa6eJgcQp"
      },
      "source": [],
      "execution_count": null,
      "outputs": []
    }
  ]
}